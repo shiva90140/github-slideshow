{
  "nbformat": 4,
  "nbformat_minor": 0,
  "metadata": {
    "colab": {
      "provenance": [],
      "authorship_tag": "ABX9TyPiELzPmxuPQGpWjNHbgR+q",
      "include_colab_link": true
    },
    "kernelspec": {
      "name": "python3",
      "display_name": "Python 3"
    },
    "language_info": {
      "name": "python"
    }
  },
  "cells": [
    {
      "cell_type": "markdown",
      "metadata": {
        "id": "view-in-github",
        "colab_type": "text"
      },
      "source": [
        "<a href=\"https://colab.research.google.com/github/shiva90140/github-slideshow/blob/dependabot%2Fbundler%2Faddressable-2.8.1/M_SHIVAKUMAR.ipynb\" target=\"_parent\"><img src=\"https://colab.research.google.com/assets/colab-badge.svg\" alt=\"Open In Colab\"/></a>"
      ]
    },
    {
      "cell_type": "code",
      "execution_count": 2,
      "metadata": {
        "id": "ypw2sCXVNdcO"
      },
      "outputs": [],
      "source": [
        "import numpy as np"
      ]
    },
    {
      "cell_type": "code",
      "source": [
        "arr=np.array([[[1,2,3],[4,5,6]],[[2,8,9],[10,2,4]]])\n",
        "print(arr)\n",
        "print(\"\\nSorted array:\\n\")\n",
        "print(np.sort(arr))\n",
        "print(\"\\nUsing where function:\\n\")\n",
        "x=np.where(arr == 2)\n",
        "print(x)"
      ],
      "metadata": {
        "colab": {
          "base_uri": "https://localhost:8080/"
        },
        "id": "2-lIrDb0N16U",
        "outputId": "79d0b70f-4d3d-4e3b-8fc0-d6db2921f653"
      },
      "execution_count": 11,
      "outputs": [
        {
          "output_type": "stream",
          "name": "stdout",
          "text": [
            "[[[ 1  2  3]\n",
            "  [ 4  5  6]]\n",
            "\n",
            " [[ 2  8  9]\n",
            "  [10  2  4]]]\n",
            "\n",
            "Sorted array:\n",
            "\n",
            "[[[ 1  2  3]\n",
            "  [ 4  5  6]]\n",
            "\n",
            " [[ 2  8  9]\n",
            "  [ 2  4 10]]]\n",
            "\n",
            "Using where function:\n",
            "\n",
            "(array([0, 1, 1]), array([0, 0, 1]), array([1, 0, 1]))\n"
          ]
        }
      ]
    },
    {
      "cell_type": "code",
      "source": [],
      "metadata": {
        "id": "Zmk7k-pbZr2Z"
      },
      "execution_count": null,
      "outputs": []
    },
    {
      "cell_type": "code",
      "source": [
        "print(\"Done\")"
      ],
      "metadata": {
        "colab": {
          "base_uri": "https://localhost:8080/"
        },
        "id": "K6Wf2pYSSzfx",
        "outputId": "075c4aff-9ad8-476f-feb0-a2854add8722"
      },
      "execution_count": 12,
      "outputs": [
        {
          "output_type": "stream",
          "name": "stdout",
          "text": [
            "Done\n"
          ]
        }
      ]
    }
  ]
}